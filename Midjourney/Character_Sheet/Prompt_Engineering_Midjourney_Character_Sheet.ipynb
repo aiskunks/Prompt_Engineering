{
  "nbformat": 4,
  "nbformat_minor": 0,
  "metadata": {
    "colab": {
      "provenance": []
    },
    "kernelspec": {
      "name": "python3",
      "display_name": "Python 3"
    },
    "language_info": {
      "name": "python"
    }
  },
  "cells": [
    {
      "cell_type": "markdown",
      "source": [
        "# Midjourney Character Sheet\n",
        "\n",
        "Playing with the Midjourney Character Sheet keyword. \n",
        "\n",
        "Follow us on AI Skunks Instagran (https://www.instagram.com/skunksai/) @ AI Skunks Github (https://github.com/aiskunks/aiskunks) \n",
        "\n",
        "Link to the Colab https://colab.research.google.com/drive/1TXefbFe9CWVzS0eInKgxXCgQw2F1Ldqk?usp=sharing\n",
        "\n",
        "\n",
        "\n"
      ],
      "metadata": {
        "id": "k2kcCDWgzx5p"
      }
    },
    {
      "cell_type": "code",
      "source": [
        "nerds = ['Ada Lovelace mathematician with a mechanical general-purpose computer the Analytical Engine','Isaac Newton', 'Albert Einstein', 'Galileo Galilei', 'Nikola Tesla', 'Ada Lovelace', 'Alan Turing', 'James Clerk Maxwell', 'Leonhard Euler', 'Richard Feynman', 'Archimedes', 'Euclid', 'Werner Heisenberg', 'Erwin Schrödinger', 'John von Neumann', 'Claude Shannon', 'Emmy Noether', 'Gottfried Wilhelm Leibniz', 'Blaise Pascal', 'Johannes Kepler', 'Carl Friedrich Gauss', 'Niels Bohr', 'Max Planck', 'Henri Poincaré', 'Paul Dirac', 'Enrico Fermi', 'Robert Boyle', 'Michael Faraday', 'Georg Ohm', 'James Watt', 'Charles Babbage', 'George Boole', 'John Napier', 'Carl Sagan', 'Louis Pasteur', 'Marie Curie', 'Robert Hooke', 'William Thomson, 1st Baron Kelvin', 'Dmitri Mendeleev', 'Gregor Mendel', 'Ernst Mach', 'Arthur Cayley', 'Henri Cartan', 'Felix Hausdorff', 'David Hilbert', 'Bernhard Riemann', 'Évariste Galois', 'Srinivasa Ramanujan', 'John Wheeler', 'Richard Courant', 'John Archibald Wheeler', 'John Stuart Mill', 'Norbert Wiener', 'Kurt Gödel', 'Charles Darwin', 'Carl Linnaeus', 'Joseph Lister', 'William Harvey', 'Nicolaus Copernicus', 'Tycho Brahe', 'Ibn al-Haytham', 'Leonardo da Vinci', 'Benjamin Franklin', 'Michael Polanyi', 'Claude-Louis Navier', 'Abu Rayhan al-Biruni', 'Brahmagupta', 'Jules Henri Poincaré', 'David Brewster', 'Henri Becquerel', 'Georg Simon Ohm', 'Wilhelm Wundt', 'Charles-Augustin de Coulomb', 'James Prescott Joule', 'Johann Carl Friedrich Gauss', 'Ferdinand von Zeppelin', 'Thomas Young', 'William Rowan Hamilton', 'Hermann Minkowski', 'Paul Ehrlich', 'Alfred Nobel', 'Thomas Edison', 'Gottlob Frege', 'Joseph Fourier', 'Joseph Henry', 'Eugene Wigner', 'Andre-Marie Ampere', 'Georges-Louis Le Sage', 'Heinrich Rudolf Hertz', 'Wilhelm Conrad Röntgen', 'Maxwell Perkins', 'Giuseppe Peano', 'Charles Sanders Peirce', 'Dmitri Ivanovich Mendeleev', 'John Harrison', 'Arthur Schopenhauer', 'Hans Christian Ørsted', 'Joseph-Louis Lagrange', 'Nicolas Steno', 'Johannes Kepler', 'Christiaan Huygens']\n",
        "\n",
        "characters = [ 'Spider-Man', 'Captain America', 'Iron Man', 'Thor', 'Hulk', 'Doctor Strange', 'Black Panther', 'Wolverine', 'Luke Cage', 'Iron Fist', 'Jessica Jones', 'Punisher', 'Silver Surfer', 'Adam Warlock', 'Doctor Doom', 'Green Goblin', 'Captain America Winter Soldier', 'Captain Marvel', 'Ms. Marvel', 'Spider-Woman', 'Ms. Marvel', 'Moon Knight', 'Cloak and Dagger', 'Runaways', 'Jessica Drew', 'Shang-Chi', 'Elsa Bloodstone', 'America Chavez', 'Kamala Khan', 'Namor the Sub-Mariner', 'Harry Potter', 'Hermione Granger', 'Severus Snape', 'Voldemort', 'Sirius Black', 'Rubeus Hagrid', 'Draco Malfoy', 'Luna Lovegood', 'Bellatrix Lestrange', 'Parvati Patil', 'Padma Patil', 'Lavender Brown', 'Susan Bones', 'Sherlock Holmes', 'Darth Vader', 'Superman', 'Batman', 'Wonder Woman', 'Spider-Man', 'James Bond', 'Luke Skywalker', 'Atticus Finch', \"Frankenstein's Monster\", 'Peter Pan', 'Cinderella', 'Sleeping Beauty', 'Belle', 'Beast', 'Snow White', 'Pinocchio', 'The Little Mermaid', 'Aladdin', 'The Genie', 'Mulan', 'Simba', 'Mufasa', 'Buzz Lightyear', 'Wall-E', 'Dorothy Gale', 'The Tin Man', 'The Scarecrow', 'The Cowardly Lion', 'Alice', 'The Mad Hatter', 'The Queen of Hearts', 'The Wicked Witch of the West', 'The White Witch', 'Indiana Jones', 'The Joker', 'Catwoman', 'Ada Lovelace mathematician with a mechanical general-purpose computer the Analytical Engine', 'Isaac Newton', 'Albert Einstein', 'Galileo Galilei', 'Nikola Tesla', 'Alan Turing', 'James Clerk Maxwell', 'Alice Alice in Wonderland', 'Anna Karenina Anna Karenina', 'Anne Shirley Anne of Green Gables', 'Ariel The Little Mermaid', 'Arya Stark A Song of Ice and Fire', 'Bella Swan Twilight', 'Buffy Summers Buffy the Vampire Slayer', 'Carmen Sandiego Where in the World is Carmen Sandiego?', 'Catwoman Batman', 'Cersei Lannister A Song of Ice and Fire', 'Charlotte York Sex and the City', 'Cinderella Cinderella', 'Clarice Starling The Silence of the Lambs', 'Daenerys Targaryen A Song of Ice and Fire', 'Daisy Buchanan The Great Gatsby', 'Dorothy Gale The Wizard of Oz', 'Eowyn The Lord of the Rings', 'Hermione Granger Harry Potter', 'Holly Golightly Breakfast at Tiffanys', 'Hua Mulan Ballad of Mulan', 'Jane Eyre Jane Eyre', 'Jasmine Aladdin', 'Jean Grey X-Men', 'Jessica Rabbit Who Framed Roger Rabbit', 'Jo March Little Women', 'Juliet Capulet Romeo and Juliet', 'Katniss Everdeen The Hunger Games', 'Lady Macbeth Macbeth', 'Lara Croft Tomb Raider', 'Lisbeth Salander The Girl with the Dragon Tattoo', 'Lois Lane Superman', 'Lucy Pevensie The Chronicles of Narnia', 'Maleficent Sleeping Beauty', 'Mary Poppins Mary Poppins', 'Matilda Wormwood Matilda', 'Princess Leia Organa Star Wars', 'SpongeBob SquarePants', 'Patrick Star', 'Squidward Tentacles', 'Mr. Krabs', 'Sandy Cheeks', 'Plankton', 'Gary the Snail', 'Mrs. Puff', 'Pearl Krabs', 'Larry the Lobster', 'Mermaid Man', 'Barnacle Boy', 'Karen Plankton', 'Bubble Bass', 'Patchy the Pirate', 'Superman', 'Batman', 'Green Lantern', 'Supergirl', 'Batwoman', 'Harley Quinn', 'Poison Ivy', 'The Joker', 'Katana', 'Mario video game character', 'Luigi video game character', 'Link video game character', 'Zelda video game character', 'Samus Aran video game character', 'Donkey Kong video game character', 'Diddy Kong video game character', 'Yoshi video game character', 'Kirby video game character', 'Pikachu video game character', 'Charizard video game character', 'Sonic the Hedgehog video game character', 'Tails video game character', 'Knuckles video game character', 'Dr. Eggman video game character', 'Crash Bandicoot video game character', 'Spyro the Dragon video game character', 'Ratchet and Clank video game character', 'Jak and Daxter video game character', 'Nathan Drake video game character', 'Kratos video game character', 'Master Chief video game character', 'Cortana video game character', 'Marcus Fenix video game character', 'Aloy video game character', 'Lara Croft video game character', 'Tifa Lockhart video game character', 'Master Chief']"
      ],
      "metadata": {
        "id": "AV4w3VxN0x9h"
      },
      "execution_count": 6,
      "outputs": []
    },
    {
      "cell_type": "code",
      "source": [
        "import random, re\n",
        "\n",
        "def biased_coin_flip(probability):\n",
        "    flip = random.random() # random number between 0 and 1\n",
        "    if flip < probability:\n",
        "        return True\n",
        "    else:\n",
        "        return False\n",
        "\n",
        "threshold = 0.7\n",
        "\n",
        "output = []\n",
        "subject = []\n",
        "artist = []\n",
        "style = []\n",
        "format = []\n",
        "place = []\n",
        "\n",
        "\n",
        "subject.extend(nerds)\n",
        "subject.extend(characters)\n",
        "\n",
        "n=33\n",
        "flip = ', full body shot '\n",
        "prompt_str  = 'SUBJECT /' \n",
        "\n",
        "\n",
        "\n",
        "for i in range(n):\n",
        "    prompt = prompt_str\n",
        "    random_str = random.choice(subject)  \n",
        "    prompt = re.sub(r'\\bSUBJECT\\b', random_str, prompt) \n",
        "    prompt = prompt + ' --v 5'  \n",
        "    prompt = re.sub(r'[ ]+', ' ', prompt)     \n",
        "    output.append(prompt)\n",
        "\n",
        "for i in output:\n",
        "  print(i)    "
      ],
      "metadata": {
        "colab": {
          "base_uri": "https://localhost:8080/"
        },
        "id": "T8mr9Uxt3v4X",
        "outputId": "12a1271f-e7df-4b53-bbef-a72eea295187"
      },
      "execution_count": 7,
      "outputs": [
        {
          "output_type": "stream",
          "name": "stdout",
          "text": [
            "Sonic the Hedgehog video game character character sheet full-length, front view and side view and back view, Low poly model in game asset style, isometric, tilt-shift, mockup, fine glossy, white background, 3d render, oc render, best quality, 4k, ultra detailed --ar 2:1 --v 5\n",
            "Wolverine character sheet full-length, front view and side view and back view, Low poly model in game asset style, isometric, tilt-shift, mockup, fine glossy, white background, 3d render, oc render, best quality, 4k, ultra detailed --ar 2:1 --v 5\n",
            "Lara Croft video game character character sheet full-length, front view and side view and back view, Low poly model in game asset style, isometric, tilt-shift, mockup, fine glossy, white background, 3d render, oc render, best quality, 4k, ultra detailed --ar 2:1 --v 5\n",
            "Sandy Cheeks character sheet full-length, front view and side view and back view, Low poly model in game asset style, isometric, tilt-shift, mockup, fine glossy, white background, 3d render, oc render, best quality, 4k, ultra detailed --ar 2:1 --v 5\n",
            "Patrick Star character sheet full-length, front view and side view and back view, Low poly model in game asset style, isometric, tilt-shift, mockup, fine glossy, white background, 3d render, oc render, best quality, 4k, ultra detailed --ar 2:1 --v 5\n",
            "Crash Bandicoot video game character character sheet full-length, front view and side view and back view, Low poly model in game asset style, isometric, tilt-shift, mockup, fine glossy, white background, 3d render, oc render, best quality, 4k, ultra detailed --ar 2:1 --v 5\n",
            "Mr. Krabs character sheet full-length, front view and side view and back view, Low poly model in game asset style, isometric, tilt-shift, mockup, fine glossy, white background, 3d render, oc render, best quality, 4k, ultra detailed --ar 2:1 --v 5\n",
            "John von Neumann character sheet full-length, front view and side view and back view, Low poly model in game asset style, isometric, tilt-shift, mockup, fine glossy, white background, 3d render, oc render, best quality, 4k, ultra detailed --ar 2:1 --v 5\n",
            "Daisy Buchanan The Great Gatsby character sheet full-length, front view and side view and back view, Low poly model in game asset style, isometric, tilt-shift, mockup, fine glossy, white background, 3d render, oc render, best quality, 4k, ultra detailed --ar 2:1 --v 5\n",
            "Tails video game character character sheet full-length, front view and side view and back view, Low poly model in game asset style, isometric, tilt-shift, mockup, fine glossy, white background, 3d render, oc render, best quality, 4k, ultra detailed --ar 2:1 --v 5\n",
            "Sonic the Hedgehog video game character character sheet full-length, front view and side view and back view, Low poly model in game asset style, isometric, tilt-shift, mockup, fine glossy, white background, 3d render, oc render, best quality, 4k, ultra detailed --ar 2:1 --v 5\n",
            "Harry Potter character sheet full-length, front view and side view and back view, Low poly model in game asset style, isometric, tilt-shift, mockup, fine glossy, white background, 3d render, oc render, best quality, 4k, ultra detailed --ar 2:1 --v 5\n",
            "Cortana video game character character sheet full-length, front view and side view and back view, Low poly model in game asset style, isometric, tilt-shift, mockup, fine glossy, white background, 3d render, oc render, best quality, 4k, ultra detailed --ar 2:1 --v 5\n",
            "Wolverine character sheet full-length, front view and side view and back view, Low poly model in game asset style, isometric, tilt-shift, mockup, fine glossy, white background, 3d render, oc render, best quality, 4k, ultra detailed --ar 2:1 --v 5\n",
            "David Brewster character sheet full-length, front view and side view and back view, Low poly model in game asset style, isometric, tilt-shift, mockup, fine glossy, white background, 3d render, oc render, best quality, 4k, ultra detailed --ar 2:1 --v 5\n",
            "Henri Becquerel character sheet full-length, front view and side view and back view, Low poly model in game asset style, isometric, tilt-shift, mockup, fine glossy, white background, 3d render, oc render, best quality, 4k, ultra detailed --ar 2:1 --v 5\n",
            "Jane Eyre Jane Eyre character sheet full-length, front view and side view and back view, Low poly model in game asset style, isometric, tilt-shift, mockup, fine glossy, white background, 3d render, oc render, best quality, 4k, ultra detailed --ar 2:1 --v 5\n",
            "Marcus Fenix video game character character sheet full-length, front view and side view and back view, Low poly model in game asset style, isometric, tilt-shift, mockup, fine glossy, white background, 3d render, oc render, best quality, 4k, ultra detailed --ar 2:1 --v 5\n",
            "Simba character sheet full-length, front view and side view and back view, Low poly model in game asset style, isometric, tilt-shift, mockup, fine glossy, white background, 3d render, oc render, best quality, 4k, ultra detailed --ar 2:1 --v 5\n",
            "Doctor Strange character sheet full-length, front view and side view and back view, Low poly model in game asset style, isometric, tilt-shift, mockup, fine glossy, white background, 3d render, oc render, best quality, 4k, ultra detailed --ar 2:1 --v 5\n",
            "Marie Curie character sheet full-length, front view and side view and back view, Low poly model in game asset style, isometric, tilt-shift, mockup, fine glossy, white background, 3d render, oc render, best quality, 4k, ultra detailed --ar 2:1 --v 5\n",
            "Ariel The Little Mermaid character sheet full-length, front view and side view and back view, Low poly model in game asset style, isometric, tilt-shift, mockup, fine glossy, white background, 3d render, oc render, best quality, 4k, ultra detailed --ar 2:1 --v 5\n",
            "Joseph Fourier character sheet full-length, front view and side view and back view, Low poly model in game asset style, isometric, tilt-shift, mockup, fine glossy, white background, 3d render, oc render, best quality, 4k, ultra detailed --ar 2:1 --v 5\n",
            "Poison Ivy character sheet full-length, front view and side view and back view, Low poly model in game asset style, isometric, tilt-shift, mockup, fine glossy, white background, 3d render, oc render, best quality, 4k, ultra detailed --ar 2:1 --v 5\n",
            "Shang-Chi character sheet full-length, front view and side view and back view, Low poly model in game asset style, isometric, tilt-shift, mockup, fine glossy, white background, 3d render, oc render, best quality, 4k, ultra detailed --ar 2:1 --v 5\n",
            "Shang-Chi character sheet full-length, front view and side view and back view, Low poly model in game asset style, isometric, tilt-shift, mockup, fine glossy, white background, 3d render, oc render, best quality, 4k, ultra detailed --ar 2:1 --v 5\n",
            "Albert Einstein character sheet full-length, front view and side view and back view, Low poly model in game asset style, isometric, tilt-shift, mockup, fine glossy, white background, 3d render, oc render, best quality, 4k, ultra detailed --ar 2:1 --v 5\n",
            "John Wheeler character sheet full-length, front view and side view and back view, Low poly model in game asset style, isometric, tilt-shift, mockup, fine glossy, white background, 3d render, oc render, best quality, 4k, ultra detailed --ar 2:1 --v 5\n",
            "Iron Fist character sheet full-length, front view and side view and back view, Low poly model in game asset style, isometric, tilt-shift, mockup, fine glossy, white background, 3d render, oc render, best quality, 4k, ultra detailed --ar 2:1 --v 5\n",
            "Moon Knight character sheet full-length, front view and side view and back view, Low poly model in game asset style, isometric, tilt-shift, mockup, fine glossy, white background, 3d render, oc render, best quality, 4k, ultra detailed --ar 2:1 --v 5\n",
            "Gottfried Wilhelm Leibniz character sheet full-length, front view and side view and back view, Low poly model in game asset style, isometric, tilt-shift, mockup, fine glossy, white background, 3d render, oc render, best quality, 4k, ultra detailed --ar 2:1 --v 5\n",
            "Nathan Drake video game character character sheet full-length, front view and side view and back view, Low poly model in game asset style, isometric, tilt-shift, mockup, fine glossy, white background, 3d render, oc render, best quality, 4k, ultra detailed --ar 2:1 --v 5\n",
            "Peter Pan character sheet full-length, front view and side view and back view, Low poly model in game asset style, isometric, tilt-shift, mockup, fine glossy, white background, 3d render, oc render, best quality, 4k, ultra detailed --ar 2:1 --v 5\n"
          ]
        }
      ]
    },
    {
      "cell_type": "code",
      "source": [],
      "metadata": {
        "id": "vJYY8GaHX6Nk"
      },
      "execution_count": 7,
      "outputs": []
    },
    {
      "cell_type": "markdown",
      "source": [
        "## Results\n",
        "\n",
        "<table>\n",
        "  <tr>\n",
        "    <td><img src=\"https://raw.githubusercontent.com/aiskunks/Prompt_Engineering/main/Midjourney/Character_Sheet/Art/koifhubtdfe.png\"></td>\n",
        "    <td><img src=\"https://raw.githubusercontent.com/aiskunks/Prompt_Engineering/main/Midjourney/Character_Sheet/Art/xaxvtcojhfw.png\"></td>\n",
        "    <td><img src=\"https://raw.githubusercontent.com/aiskunks/Prompt_Engineering/main/Midjourney/Character_Sheet/Art/pdezrkofzjq.png\"></td>\n",
        "  </tr>\n",
        "  <tr>\n",
        "    <td><img src=\"https://raw.githubusercontent.com/aiskunks/Prompt_Engineering/main/Midjourney/Character_Sheet/Art/swfddwpbinu.png\"></td>\n",
        "    <td><img src=\"https://raw.githubusercontent.com/aiskunks/Prompt_Engineering/main/Midjourney/Character_Sheet/Art/iahfnausxpk.png\"></td>\n",
        "    <td><img src=\"https://raw.githubusercontent.com/aiskunks/Prompt_Engineering/main/Midjourney/Character_Sheet/Art/foiztbbtgzl.png\"></td>\n",
        "  </tr>\n",
        "  <tr>\n",
        "    <td><img src=\"https://raw.githubusercontent.com/aiskunks/Prompt_Engineering/main/Midjourney/Character_Sheet/Art/xeumjtkcewk.png\"></td>\n",
        "    <td><img src=\"https://raw.githubusercontent.com/aiskunks/Prompt_Engineering/main/Midjourney/Character_Sheet/Art/pjqjmhitpye.png\"></td>\n",
        "    <td><img src=\"https://raw.githubusercontent.com/aiskunks/Prompt_Engineering/main/Midjourney/Character_Sheet/Art/prgxsqglgkl.png\"></td>\n",
        "  </tr>\n",
        "  <tr>\n",
        "    <td><img src=\"https://raw.githubusercontent.com/aiskunks/Prompt_Engineering/main/Midjourney/Character_Sheet/Art/sdrbsdkiqfg.png\"></td>\n",
        "    <td><img src=\"https://raw.githubusercontent.com/aiskunks/Prompt_Engineering/main/Midjourney/Character_Sheet/Art/zovluzfpkms.png\"></td>\n",
        "    <td><img src=\"https://raw.githubusercontent.com/aiskunks/Prompt_Engineering/main/Midjourney/Character_Sheet/Art/cbjvvutpojk.png\"></td>\n",
        "  </tr>\n",
        "  <tr>\n",
        "    <td><img src=\"https://raw.githubusercontent.com/aiskunks/Prompt_Engineering/main/Midjourney/Character_Sheet/Art/qmbcdznhwvy.png\"></td>\n",
        "    <td><img src=\"https://raw.githubusercontent.com/aiskunks/Prompt_Engineering/main/Midjourney/Character_Sheet/Art/mdwnusdpidr.png\"></td>\n",
        "    <td><img src=\"https://raw.githubusercontent.com/aiskunks/Prompt_Engineering/main/Midjourney/Character_Sheet/Art/lawxkntjivt.png\"></td>\n",
        "  </tr>\n",
        "  <tr>\n",
        "    <td><img src=\"https://raw.githubusercontent.com/aiskunks/Prompt_Engineering/main/Midjourney/Character_Sheet/Art/aykvybaldgh.png\"></td>\n",
        "    <td><img src=\"https://raw.githubusercontent.com/aiskunks/Prompt_Engineering/main/Midjourney/Character_Sheet/Art/ektandllilh.png\"></td>\n",
        "    <td><img src=\"https://raw.githubusercontent.com/aiskunks/Prompt_Engineering/main/Midjourney/Character_Sheet/Art/ocnsrvnlyfl.png\"></td>\n",
        "  </tr>\n",
        "  <tr>\n",
        "    <td><img src=\"https://raw.githubusercontent.com/aiskunks/Prompt_Engineering/main/Midjourney/Character_Sheet/Art/tozkgtupqnk.png\"></td>\n",
        "    <td><img src=\"https://raw.githubusercontent.com/aiskunks/Prompt_Engineering/main/Midjourney/Character_Sheet/Art/wjrpxnstisa.png\"></td>\n",
        "    <td><img src=\"https://raw.githubusercontent.com/aiskunks/Prompt_Engineering/main/Midjourney/Character_Sheet/Art/zlnaojtzkak.png\"></td>\n",
        "  </tr>\n",
        "  <tr>\n",
        "    <td><img src=\"https://raw.githubusercontent.com/aiskunks/Prompt_Engineering/main/Midjourney/Character_Sheet/Art/borimpumffg.png\"></td>\n",
        "    <td><img src=\"https://raw.githubusercontent.com/aiskunks/Prompt_Engineering/main/Midjourney/Character_Sheet/Art/azpypweuspu.png\"></td>\n",
        "    <td><img src=\"https://raw.githubusercontent.com/aiskunks/Prompt_Engineering/main/Midjourney/Character_Sheet/Art/xbgvkcgpevj.png\"></td>\n",
        "  </tr>\n",
        "  <tr>\n",
        "    <td><img src=\"https://raw.githubusercontent.com/aiskunks/Prompt_Engineering/main/Midjourney/Character_Sheet/Art/ssvrwndxnll.png\"></td>\n",
        "    <td><img src=\"https://raw.githubusercontent.com/aiskunks/Prompt_Engineering/main/Midjourney/Character_Sheet/Art/wjyctlyifia.png\"></td>\n",
        "    <td><img src=\"https://raw.githubusercontent.com/aiskunks/Prompt_Engineering/main/Midjourney/Character_Sheet/Art/odebqiyxiyn.png\"></td>\n",
        "  </tr>\n",
        "  <tr>\n",
        "    <td><img src=\"https://raw.githubusercontent.com/aiskunks/Prompt_Engineering/main/Midjourney/Character_Sheet/Art/xobtlyfntyx.png\"></td>\n",
        "    <td><img src=\"https://raw.githubusercontent.com/aiskunks/Prompt_Engineering/main/Midjourney/Character_Sheet/Art/srppqqcqccz.png\"></td>\n",
        "    <td><img src=\"https://raw.githubusercontent.com/aiskunks/Prompt_Engineering/main/Midjourney/Character_Sheet/Art/qnxtdyyhwuv.png\"></td>\n",
        "  </tr>\n",
        "  <tr>\n",
        "    <td><img src=\"https://raw.githubusercontent.com/aiskunks/Prompt_Engineering/main/Midjourney/Character_Sheet/Art/aifhvpcetdd.png\"></td>\n",
        "    <td><img src=\"https://raw.githubusercontent.com/aiskunks/Prompt_Engineering/main/Midjourney/Character_Sheet/Art/raediznakcq.png\"></td>\n",
        "    <td><img src=\"https://raw.githubusercontent.com/aiskunks/Prompt_Engineering/main/Midjourney/Character_Sheet/Art/eegpqlobjas.png\"></td>\n",
        "  </tr>\n",
        "  <tr>\n",
        "    <td><img src=\"https://raw.githubusercontent.com/aiskunks/Prompt_Engineering/main/Midjourney/Character_Sheet/Art/nhpxojgjvlc.png\"></td>\n",
        "    <td><img src=\"https://raw.githubusercontent.com/aiskunks/Prompt_Engineering/main/Midjourney/Character_Sheet/Art/bpmadypplgc.png\"></td>\n",
        "    <td><img src=\"https://raw.githubusercontent.com/aiskunks/Prompt_Engineering/main/Midjourney/Character_Sheet/Art/tlrvqcummrk.png\"></td>\n",
        "  </tr>\n",
        "  <tr>\n",
        "    <td><img src=\"https://raw.githubusercontent.com/aiskunks/Prompt_Engineering/main/Midjourney/Character_Sheet/Art/ypatzovsjgt.png\"></td>\n",
        "    <td><img src=\"https://raw.githubusercontent.com/aiskunks/Prompt_Engineering/main/Midjourney/Character_Sheet/Art/nvtvpgxcvyy.png\"></td>\n",
        "    <td><img src=\"https://raw.githubusercontent.com/aiskunks/Prompt_Engineering/main/Midjourney/Character_Sheet/Art/wxvbcyfhvll.png\"></td>\n",
        "  </tr>\n",
        "  <tr>\n",
        "    <td><img src=\"https://raw.githubusercontent.com/aiskunks/Prompt_Engineering/main/Midjourney/Character_Sheet/Art/paouhvxfvrz.png\"></td>\n",
        "    <td><img src=\"https://raw.githubusercontent.com/aiskunks/Prompt_Engineering/main/Midjourney/Character_Sheet/Art/pfzmalmnzsi.png\"></td>\n",
        "    <td><img src=\"https://raw.githubusercontent.com/aiskunks/Prompt_Engineering/main/Midjourney/Character_Sheet/Art/xdvebyxybzg.png\"></td>\n",
        "  </tr>\n",
        "  <tr>\n",
        "    <td><img src=\"https://raw.githubusercontent.com/aiskunks/Prompt_Engineering/main/Midjourney/Character_Sheet/Art/pmuwydfoylu.png\"></td>\n",
        "    <td><img src=\"https://raw.githubusercontent.com/aiskunks/Prompt_Engineering/main/Midjourney/Character_Sheet/Art/guypuzelrkk.png\"></td>\n",
        "    <td><img src=\"https://raw.githubusercontent.com/aiskunks/Prompt_Engineering/main/Midjourney/Character_Sheet/Art/fvvwnffgdyj.png\"></td>\n",
        "  </tr>\n",
        "  <tr>\n",
        "    <td><img src=\"https://raw.githubusercontent.com/aiskunks/Prompt_Engineering/main/Midjourney/Character_Sheet/Art/zwmbccmplma.png\"></td>\n",
        "    <td><img src=\"https://raw.githubusercontent.com/aiskunks/Prompt_Engineering/main/Midjourney/Character_Sheet/Art/jceflhpkyem.png\"></td>\n",
        "    <td><img src=\"https://raw.githubusercontent.com/aiskunks/Prompt_Engineering/main/Midjourney/Character_Sheet/Art/izkxtditvgp.png\"></td>\n",
        "  </tr>\n",
        "</table>\n",
        "  \n",
        "\n",
        "Character Sheet does a nice job. Next would be to see if it keeps it when one plays with the look and style.\n",
        "\n",
        "\n",
        " "
      ],
      "metadata": {
        "id": "-eeew5WWCAWT"
      }
    }
  ]
}